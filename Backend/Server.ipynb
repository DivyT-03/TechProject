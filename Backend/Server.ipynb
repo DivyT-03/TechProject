{
 "cells": [
  {
   "cell_type": "code",
   "execution_count": 1,
   "id": "9c5ddd97",
   "metadata": {},
   "outputs": [],
   "source": [
    "#OS\n",
    "import os\n",
    "from os import path\n",
    "import logging\n",
    "\n",
    "#Libraries\n",
    "import cv2\n",
    "import math\n",
    "import pafy\n",
    "import random\n",
    "import numpy as np\n",
    "import datetime as dt\n",
    "from moviepy.editor import *\n",
    "from collections import deque\n",
    "import matplotlib.pyplot as plt\n",
    "%matplotlib inline\n",
    "\n",
    "#Models\n",
    "import tensorflow as tf\n",
    "from tensorflow.keras.layers import *\n",
    "from tensorflow.keras.models import Sequential\n",
    "from tensorflow.keras.utils import to_categorical\n",
    "from tensorflow.keras.callbacks import EarlyStopping\n",
    "from tensorflow.keras.utils import plot_model\n",
    "from keras.models import load_model\n",
    "\n",
    "#Setting Randomness\n",
    "seed_constant = 23\n",
    "np.random.seed(seed_constant)\n",
    "random.seed(seed_constant)\n",
    "tf.random.set_seed(seed_constant)"
   ]
  },
  {
   "cell_type": "code",
   "execution_count": 2,
   "id": "346a5068",
   "metadata": {},
   "outputs": [],
   "source": [
    "#Downloading YouTube Video\n",
    "def download_youtube_videos(youtube_video_url, output_directory):\n",
    "    video = pafy.new(youtube_video_url)\n",
    "    video_best = video.getbest()\n",
    "    output_file_path = f'{output_directory}/{video.title}.mp4'\n",
    "    video_best.download(filepath = output_file_path, quiet = True)\n",
    "    return video.title"
   ]
  },
  {
   "cell_type": "code",
   "execution_count": 3,
   "id": "f7df565b",
   "metadata": {},
   "outputs": [],
   "source": [
    "#Making Predictions using model\n",
    "def predict_on_video(input_file, output_file_path, window_size):\n",
    "    predicted_labels_probabilities_deque = deque(maxlen = window_size)\n",
    "    video_reader = cv2.VideoCapture(input_file)\n",
    "    original_video_width = int(video_reader.get(cv2.CAP_PROP_FRAME_WIDTH))\n",
    "    original_video_height = int(video_reader.get(cv2.CAP_PROP_FRAME_HEIGHT))\n",
    "    video_writer = cv2.VideoWriter(output_file_path, cv2.VideoWriter_fourcc('M', 'P', '4', 'V'), 24, (original_video_width, original_video_height))\n",
    "\n",
    "    while True: \n",
    "        status, frame = video_reader.read() \n",
    "\n",
    "        if not status:\n",
    "            break\n",
    "\n",
    "        resized_frame = cv2.resize(frame, (image_height, image_width))\n",
    "        normalized_frame = resized_frame / 255\n",
    "        predicted_labels_probabilities = model.predict(np.expand_dims(normalized_frame, axis = 0))[0]\n",
    "        predicted_labels_probabilities_deque.append(predicted_labels_probabilities)\n",
    "\n",
    "        if len(predicted_labels_probabilities_deque) == window_size:\n",
    "            predicted_labels_probabilities_np = np.array(predicted_labels_probabilities_deque)\n",
    "            predicted_labels_probabilities_averaged = predicted_labels_probabilities_np.mean(axis = 0)\n",
    "            predicted_label = np.argmax(predicted_labels_probabilities_averaged)\n",
    "            predicted_class_name = classes_list[predicted_label]\n",
    "            cv2.putText(frame, predicted_class_name, (10, 30), cv2.FONT_HERSHEY_SIMPLEX, 1, (0, 0, 255), 2)\n",
    "\n",
    "        video_writer.write(frame)\n",
    "        #cv2.imshow('Predicted Frames', frame)\n",
    "        #key_pressed = cv2.waitKey(10)\n",
    "\n",
    "        #if key_pressed == ord('q'):\n",
    "        #    break\n",
    "\n",
    "    cv2.destroyAllWindows()\n",
    "    video_reader.release()\n",
    "    video_writer.release()"
   ]
  },
  {
   "cell_type": "code",
   "execution_count": 4,
   "id": "da6f7dad",
   "metadata": {},
   "outputs": [],
   "source": [
    "#Reading the model\n",
    "model = load_model('Activity Detection')\n",
    "\n",
    "image_height, image_width = 64, 64\n",
    "max_images_per_class = 8000"
   ]
  },
  {
   "cell_type": "code",
   "execution_count": 5,
   "id": "20994585",
   "metadata": {},
   "outputs": [],
   "source": [
    "dataset_directory = \"UCF-101\"\n",
    "classes_list = ['ApplyEyeMakeup','ApplyLipstick','BlowDryHair','BrushingTeeth','Typing', 'WritingOnBoard']"
   ]
  },
  {
   "cell_type": "code",
   "execution_count": null,
   "id": "b4a91e7d",
   "metadata": {},
   "outputs": [
    {
     "name": "stdout",
     "output_type": "stream",
     "text": [
      " * Serving Flask app \"__main__\" (lazy loading)\n",
      " * Environment: production\n",
      "   WARNING: This is a development server. Do not use it in a production deployment.\n",
      "   Use a production WSGI server instead.\n",
      " * Debug mode: off\n"
     ]
    },
    {
     "name": "stderr",
     "output_type": "stream",
     "text": [
      "INFO:werkzeug: * Running on http://127.0.0.1:5000/ (Press CTRL+C to quit)\n"
     ]
    },
    {
     "name": "stdout",
     "output_type": "stream",
     "text": [
      "Downloading Video\n",
      "\n",
      "Downloaded Video\n",
      "Predicting Video\n"
     ]
    },
    {
     "name": "stderr",
     "output_type": "stream",
     "text": [
      "INFO:werkzeug:127.0.0.1 - - [29/Jan/2022 11:32:14] \"\u001b[37mPOST /linkUpload HTTP/1.1\u001b[0m\" 200 -\n"
     ]
    },
    {
     "name": "stdout",
     "output_type": "stream",
     "text": [
      "Predicted Video\n",
      "Success.\n",
      "Downloading Video\n",
      "\n",
      "Downloaded Video\n",
      "Predicting Video\n"
     ]
    },
    {
     "name": "stderr",
     "output_type": "stream",
     "text": [
      "INFO:werkzeug:127.0.0.1 - - [29/Jan/2022 11:34:53] \"\u001b[37mPOST /linkUpload HTTP/1.1\u001b[0m\" 200 -\n"
     ]
    },
    {
     "name": "stdout",
     "output_type": "stream",
     "text": [
      "Predicted Video\n",
      "Success.\n"
     ]
    }
   ],
   "source": [
    "#Flask\n",
    "from flask import Flask, request, redirect, url_for, session, jsonify, send_from_directory\n",
    "from werkzeug.utils import secure_filename\n",
    "\n",
    "app = Flask(__name__)\n",
    "app.secret_key = '123'\n",
    "\n",
    "#Setting up upload\n",
    "UPLOAD_FOLDER=\"uploads\"\n",
    "#ALLOWED_EXTENSIONS = set([])\n",
    "\n",
    "logging.basicConfig(level=logging.INFO)\n",
    "logger = logging.getLogger('Upload Server')\n",
    "\n",
    "app.config['UPLOAD_FOLDER'] = UPLOAD_FOLDER\n",
    "\n",
    "#CROS\n",
    "@app.after_request\n",
    "def add_headers(response):\n",
    "    response.headers.add('Content-Type', 'application/json')\n",
    "    response.headers.add('Access-Control-Allow-Origin', '*')\n",
    "    response.headers.add('Access-Control-Allow-Methods', 'PUT, GET, POST, DELETE, OPTIONS')\n",
    "    response.headers.add('Access-Control-Allow-Headers', 'Content-Type,Authorization')\n",
    "    response.headers.add('Access-Control-Expose-Headers', 'Content-Type,Content-Length,Authorization,X-Pagination')\n",
    "    return response\n",
    "\n",
    "@app.route('/fileUpload', methods=['POST'])\n",
    "def fileUpload():\n",
    "\tif request.method == 'POST':\n",
    "\t\ttarget=path.join(UPLOAD_FOLDER)\n",
    "\t\tfile = request.files['file']\n",
    "\t\tfilename = secure_filename(file.filename)\n",
    "\t\tdestination=\"/\".join([target, filename])\n",
    "\t\tfile.save(destination)\n",
    "\t\tsession['uploadFilePath']=destination\n",
    "\t\tlogger.info(\"Connection Established.\")\n",
    "\n",
    "\t\tpredict_on_video(destination, \"output.mp4\", 25)\n",
    "\n",
    "\tif path.exists(\"output.mp4\"):\n",
    "\t\tprint(\"Success.\")\n",
    "\t\treturn send_from_directory(\".\", \"output.mp4\", as_attachment=True)\n",
    "\n",
    "\telse:\n",
    "\t\tprint(\"Failed.\")\n",
    "\t\tstatus={\"success\":\"false\"}\n",
    "\t\treturn jsonify(status)\n",
    "\n",
    "@app.route('/linkUpload', methods=['POST'])\n",
    "def linkUpload():\n",
    "\tif request.method == 'POST':\n",
    "\t\tmulti_dict = request.form\n",
    "\t\tlink = request.form['website']\n",
    "\t\tprint(\"Downloading Video\")\n",
    "\t\tvideo_name = download_youtube_videos(link, UPLOAD_FOLDER)\n",
    "\t\tprint(\"Downloaded Video\")\n",
    "\t\tfilename = video_name+\".mp4\"\n",
    "\t\tdestination=\"/\".join([UPLOAD_FOLDER, filename])\n",
    "\t\tsession['uploadFilePath']=destination\n",
    "\n",
    "\t\tprint(\"Predicting Video\")\n",
    "\t\tpredict_on_video(destination, \"output.mp4\", 25)\n",
    "\t\tprint(\"Predicted Video\")\n",
    "\t\n",
    "\tif path.exists(\"output.mp4\"):\n",
    "\t\tprint(\"Success.\")\n",
    "\t\treturn send_from_directory(\".\", \"output.mp4\", as_attachment=True, mimetype=\"video/mp4\")\n",
    "\n",
    "\telse:\n",
    "\t\tprint(\"Failed.\")\n",
    "\t\tstatus={\"success\":\"false\"}\n",
    "\t\treturn jsonify(status)\n",
    "\n",
    "app.run()\n"
   ]
  },
  {
   "cell_type": "code",
   "execution_count": null,
   "id": "88f2845f",
   "metadata": {},
   "outputs": [],
   "source": []
  }
 ],
 "metadata": {
  "kernelspec": {
   "display_name": "Python 3",
   "language": "python",
   "name": "python3"
  },
  "language_info": {
   "codemirror_mode": {
    "name": "ipython",
    "version": 3
   },
   "file_extension": ".py",
   "mimetype": "text/x-python",
   "name": "python",
   "nbconvert_exporter": "python",
   "pygments_lexer": "ipython3",
   "version": "3.8.8"
  }
 },
 "nbformat": 4,
 "nbformat_minor": 5
}
